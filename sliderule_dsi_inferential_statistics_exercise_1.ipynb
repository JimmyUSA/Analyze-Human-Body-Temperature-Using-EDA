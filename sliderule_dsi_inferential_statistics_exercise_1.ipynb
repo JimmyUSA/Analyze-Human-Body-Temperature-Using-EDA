{
 "cells": [
  {
   "cell_type": "markdown",
   "metadata": {},
   "source": [
    "# What is the True Normal Human Body Temperature? \n",
    "\n",
    "#### Background\n",
    "\n",
    "The mean normal body temperature was held to be 37$^{\\circ}$C or 98.6$^{\\circ}$F for more than 120 years since it was first conceptualized and reported by Carl Wunderlich in a famous 1868 book. But, is this value statistically correct?"
   ]
  },
  {
   "cell_type": "markdown",
   "metadata": {},
   "source": [
    "<h3>Exercises</h3>\n",
    "\n",
    "<p>In this exercise, you will analyze a dataset of human body temperatures and employ the concepts of hypothesis testing, confidence intervals, and statistical significance.</p>\n",
    "\n",
    "<p>Answer the following questions <b>in this notebook below and submit to your Github account</b>.</p> \n",
    "\n",
    "<ol>\n",
    "<li>  Is the distribution of body temperatures normal? \n",
    "    <ul>\n",
    "    <li> Although this is not a requirement for the Central Limit Theorem to hold (read the introduction on Wikipedia's page about the CLT carefully: https://en.wikipedia.org/wiki/Central_limit_theorem), it gives us some peace of mind that the population may also be normally distributed if we assume that this sample is representative of the population.\n",
    "    <li> Think about the way you're going to check for the normality of the distribution. Graphical methods are usually used first, but there are also other ways: https://en.wikipedia.org/wiki/Normality_test\n",
    "    </ul>\n",
    "<li>  Is the sample size large? Are the observations independent?\n",
    "    <ul>\n",
    "    <li> Remember that this is a condition for the Central Limit Theorem, and hence the statistical tests we are using, to apply.\n",
    "    </ul>\n",
    "<li>  Is the true population mean really 98.6 degrees F?\n",
    "    <ul>\n",
    "    <li> First, try a bootstrap hypothesis test.\n",
    "    <li> Now, let's try frequentist statistical testing. Would you use a one-sample or two-sample test? Why?\n",
    "    <li> In this situation, is it appropriate to use the $t$ or $z$ statistic? \n",
    "    <li> Now try using the other test. How is the result be different? Why?\n",
    "    </ul>\n",
    "<li>  Draw a small sample of size 10 from the data and repeat both frequentist tests. \n",
    "    <ul>\n",
    "    <li> Which one is the correct one to use? \n",
    "    <li> What do you notice? What does this tell you about the difference in application of the $t$ and $z$ statistic?\n",
    "    </ul>\n",
    "<li>  At what temperature should we consider someone's temperature to be \"abnormal\"?\n",
    "    <ul>\n",
    "    <li> As in the previous example, try calculating everything using the boostrap approach, as well as the frequentist approach.\n",
    "    <li> Start by computing the margin of error and confidence interval. When calculating the confidence interval, keep in mind that you should use the appropriate formula for one draw, and not N draws.\n",
    "    </ul>\n",
    "<li>  Is there a significant difference between males and females in normal temperature?\n",
    "    <ul>\n",
    "    <li> What testing approach did you use and why?\n",
    "    <li> Write a story with your conclusion in the context of the original problem.\n",
    "    </ul>\n",
    "</ol>\n",
    "\n",
    "You can include written notes in notebook cells using Markdown: \n",
    "   - In the control panel at the top, choose Cell > Cell Type > Markdown\n",
    "   - Markdown syntax: http://nestacms.com/docs/creating-content/markdown-cheat-sheet\n",
    "\n",
    "#### Resources\n",
    "\n",
    "+ Information and data sources: http://www.amstat.org/publications/jse/datasets/normtemp.txt, http://www.amstat.org/publications/jse/jse_data_archive.htm\n",
    "+ Markdown syntax: http://nestacms.com/docs/creating-content/markdown-cheat-sheet\n",
    "\n",
    "****"
   ]
  },
  {
   "cell_type": "code",
   "execution_count": 1,
   "metadata": {},
   "outputs": [
    {
     "data": {
      "text/html": [
       "<div>\n",
       "<style scoped>\n",
       "    .dataframe tbody tr th:only-of-type {\n",
       "        vertical-align: middle;\n",
       "    }\n",
       "\n",
       "    .dataframe tbody tr th {\n",
       "        vertical-align: top;\n",
       "    }\n",
       "\n",
       "    .dataframe thead th {\n",
       "        text-align: right;\n",
       "    }\n",
       "</style>\n",
       "<table border=\"1\" class=\"dataframe\">\n",
       "  <thead>\n",
       "    <tr style=\"text-align: right;\">\n",
       "      <th></th>\n",
       "      <th>temperature</th>\n",
       "      <th>gender</th>\n",
       "      <th>heart_rate</th>\n",
       "    </tr>\n",
       "  </thead>\n",
       "  <tbody>\n",
       "    <tr>\n",
       "      <th>0</th>\n",
       "      <td>99.3</td>\n",
       "      <td>F</td>\n",
       "      <td>68.0</td>\n",
       "    </tr>\n",
       "    <tr>\n",
       "      <th>1</th>\n",
       "      <td>98.4</td>\n",
       "      <td>F</td>\n",
       "      <td>81.0</td>\n",
       "    </tr>\n",
       "    <tr>\n",
       "      <th>2</th>\n",
       "      <td>97.8</td>\n",
       "      <td>M</td>\n",
       "      <td>73.0</td>\n",
       "    </tr>\n",
       "    <tr>\n",
       "      <th>3</th>\n",
       "      <td>99.2</td>\n",
       "      <td>F</td>\n",
       "      <td>66.0</td>\n",
       "    </tr>\n",
       "    <tr>\n",
       "      <th>4</th>\n",
       "      <td>98.0</td>\n",
       "      <td>F</td>\n",
       "      <td>73.0</td>\n",
       "    </tr>\n",
       "  </tbody>\n",
       "</table>\n",
       "</div>"
      ],
      "text/plain": [
       "   temperature gender  heart_rate\n",
       "0         99.3      F        68.0\n",
       "1         98.4      F        81.0\n",
       "2         97.8      M        73.0\n",
       "3         99.2      F        66.0\n",
       "4         98.0      F        73.0"
      ]
     },
     "execution_count": 1,
     "metadata": {},
     "output_type": "execute_result"
    }
   ],
   "source": [
    "# Import pandas\n",
    "import pandas as pd\n",
    "\n",
    "# Import numpy\n",
    "import numpy as np\n",
    "\n",
    "# Read in Data\n",
    "df = pd.read_csv('data/human_body_temperature.csv')\n",
    "\n",
    "# Explore \n",
    "df.head()"
   ]
  },
  {
   "cell_type": "markdown",
   "metadata": {
    "collapsed": true
   },
   "source": [
    "## 1. Is the distribution of body temperatures normal?"
   ]
  },
  {
   "cell_type": "code",
   "execution_count": 2,
   "metadata": {},
   "outputs": [
    {
     "data": {
      "text/plain": [
       "<Figure size 640x480 with 1 Axes>"
      ]
     },
     "metadata": {},
     "output_type": "display_data"
    }
   ],
   "source": [
    "# Import pyplot\n",
    "import matplotlib.pyplot as plt\n",
    "\n",
    "# Plot temperature distribution\n",
    "plt.hist(df['temperature'], bins = 11)\n",
    "plt.title('Distribution of Temperatures')\n",
    "plt.xlabel('Temperature (F)')\n",
    "plt.ylabel('Count')\n",
    "plt.show();"
   ]
  },
  {
   "cell_type": "code",
   "execution_count": 3,
   "metadata": {},
   "outputs": [
    {
     "name": "stdout",
     "output_type": "stream",
     "text": [
      "A normality test was used to test the null hypothesis that the sample of body temperatures is from a normal distribution.\n",
      "The distribution of body temperatures is normal, given that the p-value for the normality test is: 0.2587479863488254\n",
      "Given that p > 0.05, We accept the null hypothesis.\n"
     ]
    }
   ],
   "source": [
    "# Import normaltest\n",
    "from scipy.stats import normaltest\n",
    "\n",
    "sk, p = normaltest(df['temperature'])\n",
    "print('A normality test was used to test the null hypothesis that the sample of body temperatures is from a normal distribution.')\n",
    "print('The distribution of body temperatures is normal, given that the p-value for the normality test is: {}'.format(p))\n",
    "print('Given that p > 0.05, We accept the null hypothesis.')"
   ]
  },
  {
   "cell_type": "markdown",
   "metadata": {},
   "source": [
    "### Is the sample size large? Are the observations independent?\n",
    "-  Sample size is greater than 30, so large enough for the Central Limit Theorem to hold.\n",
    "-  Observations are assumed to be independent as the temperature of one person is unrelated to the temperature of another person."
   ]
  },
  {
   "cell_type": "markdown",
   "metadata": {},
   "source": [
    "## 3. Is the true population mean really 98.6 degrees F?"
   ]
  },
  {
   "cell_type": "code",
   "execution_count": 4,
   "metadata": {},
   "outputs": [
    {
     "name": "stdout",
     "output_type": "stream",
     "text": [
      "The null hypothesis claims that the bootstrap replicate means of body temperature is equal to 98.6.\n",
      "Given that p-value for bootstrap hypothesis test =  0.0 , we reject the null hypothesis.\n"
     ]
    }
   ],
   "source": [
    "# Bootstrap Hypothesis Test\n",
    "size = 1000\n",
    "bs_replicates = np.empty(size)\n",
    "for i in range(size):\n",
    "    bs_replicates[i] = np.mean(np.random.choice(df['temperature'],len(df['temperature'])))\n",
    "    \n",
    "# Compute fraction of replicates that are equal to the 98.6\n",
    "bs_replicates = np.around(bs_replicates, decimals=1) # Round to 1 decimal place\n",
    "p = np.sum(bs_replicates == 98.6) / size\n",
    "print('The null hypothesis claims that the bootstrap replicate means of body temperature is equal to 98.6.')\n",
    "print('Given that p-value for bootstrap hypothesis test = ', p, ', we reject the null hypothesis.')"
   ]
  },
  {
   "cell_type": "markdown",
   "metadata": {},
   "source": [
    "### One-sample or two-samples?\n",
    "\n",
    "-  Another strategy to test if the true population mean is 98.6 degrees F is to employ frequentist statistical testing. For this, we use a one-sample test as we our comparing the mean of our sample of 130 temperature data to a single mean of 98.6.\n",
    "\n",
    "### Is it appropriate to use the  𝑡  or  𝑧  statistic?\n",
    "\n",
    "-  Z-score is derived from the population standard deviation, while the t-score is derived from the sample standard deviation. Given that we know the sample standard deviation but not necessarily the population standard deviation, the t-score may be more appropriate to use in this case."
   ]
  },
  {
   "cell_type": "code",
   "execution_count": 5,
   "metadata": {},
   "outputs": [
    {
     "name": "stdout",
     "output_type": "stream",
     "text": [
      "The null hypothesis claims that the mean body temperatures in our sample is equal to 98.6.\n",
      "Given that p-value for the one-sample t-test is sufficiently small () 2.4106320415561276e-07 ), we reject the null hypothesis.\n"
     ]
    }
   ],
   "source": [
    "# One-sample t-test\n",
    "from scipy.stats import ttest_1samp\n",
    "t, p = ttest_1samp(df['temperature'], popmean=98.6)\n",
    "print('The null hypothesis claims that the mean body temperatures in our sample is equal to 98.6.')\n",
    "print('Given that p-value for the one-sample t-test is sufficiently small ()', p, '), we reject the null hypothesis.')"
   ]
  },
  {
   "cell_type": "code",
   "execution_count": 6,
   "metadata": {},
   "outputs": [
    {
     "name": "stdout",
     "output_type": "stream",
     "text": [
      "The null hypothesis claims that the mean body temperatures in our sample is equal to 98.6.\n",
      "Given that p-value for the one-sample z-test is sufficiently small ( 4.9021570141012155e-08 ), we reject the null hypothesis.\n"
     ]
    }
   ],
   "source": [
    "# One-sample z-test\n",
    "from statsmodels.stats.weightstats import ztest\n",
    "t, p = ztest(x1=df['temperature'], value=98.6)\n",
    "print('The null hypothesis claims that the mean body temperatures in our sample is equal to 98.6.')\n",
    "print('Given that p-value for the one-sample z-test is sufficiently small (', p, '), we reject the null hypothesis.')"
   ]
  },
  {
   "cell_type": "markdown",
   "metadata": {},
   "source": [
    "### Comparing the t-score to z-score\n",
    "- The p-value derived from the z-test is one order of magnitude smaller than the p-value derived from the t-test. This suggests that, if our sample standard deviation is truly representative of the population standard deviation, then it is even more unlikely that the null hypothesis is true."
   ]
  },
  {
   "cell_type": "markdown",
   "metadata": {},
   "source": [
    "## 4. Draw a small sample of size 10 from the data and repeat both frequentist tests."
   ]
  },
  {
   "cell_type": "code",
   "execution_count": 7,
   "metadata": {},
   "outputs": [
    {
     "name": "stdout",
     "output_type": "stream",
     "text": [
      "p-value for t-test:  0.023027841559117797 , and z-test:  0.006234290775754893\n"
     ]
    }
   ],
   "source": [
    "# Draw a small sample of size 10 from the data\n",
    "small_sample = np.random.choice(df['temperature'], size=10, replace=False)\n",
    "tt, tp = ttest_1samp(small_sample, popmean=98.6)\n",
    "zt, zp = ztest(small_sample, value=98.6)\n",
    "print('p-value for t-test: ', tp, ', and z-test: ', zp)"
   ]
  },
  {
   "cell_type": "markdown",
   "metadata": {},
   "source": [
    "-  The correct test to use for a smaller sample size of 10 should be the t-test. Typically, z-score is only relevant for sample sizes that are larger than 30, and for which we know the population standard deviation.\n",
    "\n",
    "-  Repeated runs of the t-test and z-test on the smaller sample size of 10 consistently produces lower p-values from the z-test than from the t-test. This is likely due to the fact that the t-test takes into account the degrees of freedom (n-1=129 in this case), whereas the z-test does not take into account the degrees of freedom. In this particular scenario, it seems that if we are able to assume that the sample standard deviation is the population standard deviation and it is appropriate to use the z-test, then we have a higher likelihood of rejecting the null hypothesis."
   ]
  },
  {
   "cell_type": "markdown",
   "metadata": {},
   "source": [
    "## 5. At what temperature should we consider someone's temperature to be \"abnormal\"?\n",
    "\n",
    "### Bootstrap approach"
   ]
  },
  {
   "cell_type": "code",
   "execution_count": 8,
   "metadata": {},
   "outputs": [
    {
     "name": "stdout",
     "output_type": "stream",
     "text": [
      "The 95% confidence interval is from  98.1  to  98.4 .\n",
      "The margin of error, as computed from the bootstrap replicates, is:  0.14051928812799988\n",
      "Temperatures above and below the confidence interval are considered statistically abnormal.\n"
     ]
    }
   ],
   "source": [
    "# Compute the 95% Confidence Interval, Bootstrap Replicate Approach\n",
    "conf_int = np.percentile(bs_replicates, [2.5, 97.5]) # Compute Confidence Interval\n",
    "\n",
    "# Compute Margin of Error, Bootstrap Replicate Approach\n",
    "margin_of_error = 1.96 * bs_replicates.std()\n",
    "print('The 95% confidence interval is from ', conf_int[0], ' to ', conf_int[1], '.')\n",
    "print('The margin of error, as computed from the bootstrap replicates, is: ', margin_of_error)\n",
    "print('Temperatures above and below the confidence interval are considered statistically abnormal.')\n"
   ]
  },
  {
   "cell_type": "markdown",
   "metadata": {},
   "source": [
    "### Frequentist approach."
   ]
  },
  {
   "cell_type": "code",
   "execution_count": 9,
   "metadata": {},
   "outputs": [
    {
     "name": "stdout",
     "output_type": "stream",
     "text": [
      "The 95% confidence interval is from  98.12319411222852  to  98.37526742623304 .\n",
      "The margin of error, as computed from the t-test method, is:  0.12603665700226638\n",
      "Temperatures above and below the confidence interval are considered statistically abnormal.\n"
     ]
    }
   ],
   "source": [
    "# Compute the 95% Confidence Interval, Frequentist Approach\n",
    "std_e_t = df['temperature'].std() / np.sqrt(len(df['temperature']))\n",
    "\n",
    "# Compute Margin of Error, Frequentist Approach\n",
    "margin_of_error_t = 1.96 * std_e_t # Assuming 95% Confidence\n",
    "print('The 95% confidence interval is from ', np.mean(df['temperature']) - margin_of_error_t,\n",
    "      ' to ', np.mean(df['temperature']) + margin_of_error_t, '.')\n",
    "print('The margin of error, as computed from the t-test method, is: ', margin_of_error_t)\n",
    "print('Temperatures above and below the confidence interval are considered statistically abnormal.')"
   ]
  },
  {
   "cell_type": "markdown",
   "metadata": {},
   "source": [
    "## 6. Is there a significant difference between males and females in normal temperature?\n",
    "- To test if there is a significant difference between male and female body temperatures, we use a two-sample t-test. We have two sample distributions (male and female), and a t-test is appropriate given that we do not know the population standard deviations for the two samples."
   ]
  },
  {
   "cell_type": "code",
   "execution_count": 10,
   "metadata": {},
   "outputs": [
    {
     "name": "stdout",
     "output_type": "stream",
     "text": [
      "The null hypothesis claims that the mean body temperatures of males is the same as the mean body temperature of females.\n",
      "P-value for two-sample t-test:  0.02393188312239561\n",
      "Given that the p value is sufficiently small, <0.05, we reject the null hypothesis.\n"
     ]
    }
   ],
   "source": [
    "# Segment population by gender\n",
    "males = df.loc[(df.gender == 'M')]\n",
    "females = df.loc[(df.gender == 'F')]\n",
    "\n",
    "# Perform two-sample t-test\n",
    "from scipy.stats import ttest_ind\n",
    "t, p = ttest_ind(males['temperature'], females['temperature'])\n",
    "print('The null hypothesis claims that the mean body temperatures of males is the same as the mean body temperature of females.')\n",
    "print('P-value for two-sample t-test: ', p)\n",
    "print('Given that the p value is sufficiently small, <0.05, we reject the null hypothesis.')"
   ]
  },
  {
   "cell_type": "markdown",
   "metadata": {},
   "source": [
    "-  Male body temperatures were found to be statistically different from female body temperatures. It is possible that the data used by Carl Wunderlich to calculate the 98.6 F mean temperature may have been skewed to one gender."
   ]
  }
 ],
 "metadata": {
  "kernelspec": {
   "display_name": "Python 3",
   "language": "python",
   "name": "python3"
  },
  "language_info": {
   "codemirror_mode": {
    "name": "ipython",
    "version": 3
   },
   "file_extension": ".py",
   "mimetype": "text/x-python",
   "name": "python",
   "nbconvert_exporter": "python",
   "pygments_lexer": "ipython3",
   "version": "3.6.6"
  }
 },
 "nbformat": 4,
 "nbformat_minor": 1
}
